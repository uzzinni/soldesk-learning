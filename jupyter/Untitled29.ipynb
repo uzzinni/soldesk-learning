{
 "cells": [
  {
   "cell_type": "code",
   "execution_count": 1,
   "id": "998b3a49-eb08-4a95-9867-2f721d605bd9",
   "metadata": {},
   "outputs": [],
   "source": [
    "# statsmodels\n",
    "# 540p\n",
    "\n",
    "import statsmodels.api as sm\n",
    "import statsmodels.formula.api as smf\n",
    "import numpy as np\n",
    "\n",
    "rng = np.random.default_rng(seed=12345)\n",
    "\n",
    "def dnorm(mean, variance, size=1):\n",
    "    if isinstance(size, int):\n",
    "        size = size,\n",
    "    return mean + np.sqrt(variance) * rng.standard_normal(*size)\n",
    "\n",
    "n = 100\n",
    "x = np.c_[dnorm(0, 0.4, size=n), dnorm(0, 0.6, size=n), dnorm(0, 0.2, size=n)]\n",
    "eps = dnorm(0, 0.1, size=n)\n",
    "beta = [0.1, 0.3, 0.5]\n",
    "y = np.dot(x, beta) + eps"
   ]
  },
  {
   "cell_type": "code",
   "execution_count": null,
   "id": "d0b5c6af-3b4d-4a9d-a8c1-8bb68b7ee49b",
   "metadata": {},
   "outputs": [],
   "source": []
  }
 ],
 "metadata": {
  "kernelspec": {
   "display_name": "Python 3 (ipykernel)",
   "language": "python",
   "name": "python3"
  },
  "language_info": {
   "codemirror_mode": {
    "name": "ipython",
    "version": 3
   },
   "file_extension": ".py",
   "mimetype": "text/x-python",
   "name": "python",
   "nbconvert_exporter": "python",
   "pygments_lexer": "ipython3",
   "version": "3.12.6"
  }
 },
 "nbformat": 4,
 "nbformat_minor": 5
}
