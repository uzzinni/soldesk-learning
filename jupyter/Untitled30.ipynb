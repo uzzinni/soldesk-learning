{
 "cells": [
  {
   "cell_type": "code",
   "execution_count": 9,
   "id": "0874ca3f-bcd2-4cc4-9f0f-fd50ee0cbd72",
   "metadata": {},
   "outputs": [
    {
     "data": {
      "text/plain": [
       "array([[ 3.,  0., 22.],\n",
       "       [ 1.,  1., 38.],\n",
       "       [ 3.,  1., 26.],\n",
       "       ...,\n",
       "       [ 3.,  1., 28.],\n",
       "       [ 1.,  0., 26.],\n",
       "       [ 3.,  0., 32.]], shape=(891, 3))"
      ]
     },
     "execution_count": 9,
     "metadata": {},
     "output_type": "execute_result"
    }
   ],
   "source": [
    "import pandas as pd\n",
    "\n",
    "train = pd.read_csv('train.csv')\n",
    "test = pd.read_csv('test.csv')\n",
    "\n",
    "# 나이 결측치 중간값으로 입력하기\n",
    "age_value = train['Age'].median()\n",
    "train['Age'] = train['Age'].fillna(age_value)\n",
    "test['Age'] = test['Age'].fillna(age_value)\n",
    "\n",
    "# 성별을 숫자로 변환\n",
    "train['IsFemle'] = (train['Sex'] == 'female').astype(int)  # train은 오타 컬럼명 그대로 유지\n",
    "test['IsFemale'] = (test['Sex'] == 'female').astype(int)\n",
    "\n",
    "import numpy as np\n",
    "\n",
    "# train 쪽 predictors에서 'IsFemle' 오타에 맞게 수정\n",
    "predictors = ['Pclass', 'IsFemle', 'Age']\n",
    "x_train = train[predictors].to_numpy()\n",
    "\n",
    "x_train"
   ]
  },
  {
   "cell_type": "code",
   "execution_count": null,
   "id": "07f90389-6dbd-4ce1-b40b-13e0c3afa75a",
   "metadata": {},
   "outputs": [],
   "source": []
  },
  {
   "cell_type": "code",
   "execution_count": null,
   "id": "b8db23f0-f8b0-4b37-bba6-aec80d4ffb39",
   "metadata": {},
   "outputs": [],
   "source": []
  },
  {
   "cell_type": "code",
   "execution_count": null,
   "id": "9cece48e-f530-4618-bc38-c7db18a6f442",
   "metadata": {},
   "outputs": [],
   "source": []
  },
  {
   "cell_type": "code",
   "execution_count": null,
   "id": "b9ba010f-10de-4977-ab96-d8e2f8619789",
   "metadata": {},
   "outputs": [],
   "source": []
  },
  {
   "cell_type": "code",
   "execution_count": null,
   "id": "bd04972f-88d6-4734-95c5-16aa00f1df37",
   "metadata": {},
   "outputs": [],
   "source": []
  },
  {
   "cell_type": "code",
   "execution_count": null,
   "id": "276614de-0422-49a2-8c21-8c665f71bb18",
   "metadata": {},
   "outputs": [],
   "source": []
  },
  {
   "cell_type": "code",
   "execution_count": null,
   "id": "656117f7-cdbb-4d0e-a93a-8d1281eb378e",
   "metadata": {},
   "outputs": [],
   "source": []
  },
  {
   "cell_type": "code",
   "execution_count": null,
   "id": "1ec375fb-65c0-4095-8ce3-f163546e0355",
   "metadata": {},
   "outputs": [],
   "source": []
  },
  {
   "cell_type": "code",
   "execution_count": null,
   "id": "bfbb5ed4-e278-49d6-9769-92bb3b635ec1",
   "metadata": {},
   "outputs": [],
   "source": []
  },
  {
   "cell_type": "code",
   "execution_count": null,
   "id": "55e3d191-2a78-4a6d-8cd0-7a838d462257",
   "metadata": {},
   "outputs": [],
   "source": []
  },
  {
   "cell_type": "code",
   "execution_count": null,
   "id": "a2878dc3-4649-433c-995a-4626d1313414",
   "metadata": {},
   "outputs": [],
   "source": []
  }
 ],
 "metadata": {
  "kernelspec": {
   "display_name": "Python 3 (ipykernel)",
   "language": "python",
   "name": "python3"
  },
  "language_info": {
   "codemirror_mode": {
    "name": "ipython",
    "version": 3
   },
   "file_extension": ".py",
   "mimetype": "text/x-python",
   "name": "python",
   "nbconvert_exporter": "python",
   "pygments_lexer": "ipython3",
   "version": "3.12.6"
  }
 },
 "nbformat": 4,
 "nbformat_minor": 5
}
