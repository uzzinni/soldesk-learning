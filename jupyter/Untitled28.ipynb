{
 "cells": [
  {
   "cell_type": "code",
   "execution_count": 6,
   "id": "a72df8b8-0b3e-44b5-a7c8-8bc1f5b22333",
   "metadata": {},
   "outputs": [
    {
     "data": {
      "text/plain": [
       "array([[1, 0.01, -1.5, 'a'],\n",
       "       [2, -0.01, 0.0, 'b'],\n",
       "       [3, 0.25, 3.6, 'c'],\n",
       "       [4, -4.1, 1.3, 'd'],\n",
       "       [5, 0.0, -2.0, 'e']], dtype=object)"
      ]
     },
     "execution_count": 6,
     "metadata": {},
     "output_type": "execute_result"
    }
   ],
   "source": [
    "# 파이썬 웹 스크래핑 527p\n",
    "import pandas as pd\n",
    "\n",
    "data = pd.DataFrame({\n",
    "    'x0' :[1, 2, 3, 4, 5],\n",
    "    'x1' :[0.01, -0.01, 0.25, -4.1, 0.0],\n",
    "    'y' :[-1.5, 0.0 , 3.6, 1.3, -2]\n",
    "})\n",
    "\n",
    "#분석 라이브러리로 넘겨주기 위해서 list(배열)로 변환 \n",
    "\n",
    "toArray = data.to_numpy()\n",
    "df2 = pd.DataFrame(toArray, columns=['one', 'two', 'three'])\n",
    "df2\n",
    "\n",
    "# 다른 속성이 같이 있다면\n",
    "df3 = data.copy()\n",
    "df3['strings'] = ['a', 'b', 'c', 'd', 'e']\n",
    "toArray3 = df3.to_numpy()\n",
    "toArray3\n",
    "\n",
    "# 일부분 loc\n",
    "model_cols = ['x0', 'x1']\n",
    "df4 = data.loc[:,model_cols].to_numpy()\n",
    "df4"
   ]
  },
  {
   "cell_type": "code",
   "execution_count": 9,
   "id": "cf08c1dc-0668-42d9-a086-9e8b11646981",
   "metadata": {},
   "outputs": [
    {
     "data": {
      "text/plain": [
       "array([[-1.5],\n",
       "       [ 0. ],\n",
       "       [ 3.6],\n",
       "       [ 1.3],\n",
       "       [-2. ]])"
      ]
     },
     "execution_count": 9,
     "metadata": {},
     "output_type": "execute_result"
    }
   ],
   "source": [
    "import patsy\n",
    "\n",
    "y, x = patsy.dmatrices('y ~ x0 + x1', data)\n",
    "\n",
    "import numpy as np\n",
    "np.asarray(y)"
   ]
  }
 ],
 "metadata": {
  "kernelspec": {
   "display_name": "Python 3 (ipykernel)",
   "language": "python",
   "name": "python3"
  },
  "language_info": {
   "codemirror_mode": {
    "name": "ipython",
    "version": 3
   },
   "file_extension": ".py",
   "mimetype": "text/x-python",
   "name": "python",
   "nbconvert_exporter": "python",
   "pygments_lexer": "ipython3",
   "version": "3.12.6"
  }
 },
 "nbformat": 4,
 "nbformat_minor": 5
}
