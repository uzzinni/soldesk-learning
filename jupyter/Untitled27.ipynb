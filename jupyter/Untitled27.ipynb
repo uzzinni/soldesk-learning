{
 "cells": [
  {
   "cell_type": "code",
   "execution_count": 10,
   "id": "36b8a6ca-f2d0-435b-af83-53e349034262",
   "metadata": {},
   "outputs": [
    {
     "data": {
      "text/plain": [
       "datetime.datetime"
      ]
     },
     "execution_count": 10,
     "metadata": {},
     "output_type": "execute_result"
    }
   ],
   "source": [
    "# 2025-05-21 파이썬 웹 스크래핑\n",
    "# 467  시계열\n",
    "import numpy as np\n",
    "import pandas as pd\n",
    "from datetime import datetime\n",
    "from datetime import timedelta\n",
    "\n",
    "now = datetime.now()\n",
    "# now.year , now.month , now.day , now.hour , now.minute , now.second\n",
    "\n",
    "day = now - datetime(2025, 1, 1, 0, 0, 0)\n",
    "now + timedelta(11)\n",
    "\n",
    "# str to datetime    470\n",
    "strDate = str(now)\n",
    "# '2025-05-21 18:12:28.488513'\n",
    "type(strDate)\n",
    "\n",
    "value = '2026-05-21'   # '%Y-%m-%d'\n",
    "strValue = datetime.strptime(value, '%Y-%m-%d')\n",
    "type(strValue)"
   ]
  },
  {
   "cell_type": "code",
   "execution_count": 14,
   "id": "c8ad3f0b-31b9-4995-95e9-7f9959c56543",
   "metadata": {},
   "outputs": [
    {
     "data": {
      "text/plain": [
       "DatetimeIndex(['2011-07-06 12:00:00', '2011-08-06 00:00:00', 'NaT', 'NaT'], dtype='datetime64[ns]', freq=None)"
      ]
     },
     "execution_count": 14,
     "metadata": {},
     "output_type": "execute_result"
    }
   ],
   "source": [
    "strDateTime = '2025-05-21 18:47:20'\n",
    "pd.to_datetime(strDateTime)\n",
    "\n",
    "datestrs = ['2011-07-06 12:00:00', '2011-08-06 00:00:00', np.nan, '']\n",
    "idx = pd.to_datetime(datestrs)\n",
    "idx "
   ]
  },
  {
   "cell_type": "code",
   "execution_count": 15,
   "id": "8a6009ca-1280-4ea4-9ae9-b416beca7723",
   "metadata": {},
   "outputs": [
    {
     "data": {
      "text/plain": [
       "Timestamp('2011-01-02 00:00:00')"
      ]
     },
     "execution_count": 15,
     "metadata": {},
     "output_type": "execute_result"
    }
   ],
   "source": [
    "# 시계열 기초 473\n",
    "dates = [datetime(2011, 1, 2), datetime(2011, 1, 5), datetime(2011, 1, 7),\n",
    "        datetime(2011, 1, 8), datetime(2011, 1, 10), datetime(2011, 1, 12)]\n",
    "\n",
    "ts = pd.Series(np.random.standard_normal(6), index=dates)\n",
    "#ts.index\n",
    "stamp = ts.index[0]\n",
    "stamp"
   ]
  },
  {
   "cell_type": "code",
   "execution_count": 16,
   "id": "89610269-8d1e-4e69-95d3-0d28e68a37dd",
   "metadata": {},
   "outputs": [
    {
     "data": {
      "text/plain": [
       "(Timestamp('2011-01-07 00:00:00'),\n",
       " np.float64(1.2113740635995798),\n",
       " np.float64(1.2113740635995798))"
      ]
     },
     "execution_count": 16,
     "metadata": {},
     "output_type": "execute_result"
    }
   ],
   "source": [
    "#색인\n",
    "ts.index[2], ts[ts.index[2]], ts['2011-01-07']"
   ]
  },
  {
   "cell_type": "code",
   "execution_count": 17,
   "id": "85b5ed03-12d9-4b4a-886e-a8e14e3ed6b8",
   "metadata": {},
   "outputs": [
    {
     "data": {
      "text/plain": [
       "2001-02-01    0.219863\n",
       "2001-02-02   -1.168211\n",
       "2001-02-03   -0.177818\n",
       "2001-02-04    0.218163\n",
       "2001-02-05   -0.503537\n",
       "2001-02-06   -0.322690\n",
       "2001-02-07    0.515229\n",
       "2001-02-08   -0.697782\n",
       "2001-02-09    0.275366\n",
       "2001-02-10    0.791363\n",
       "2001-02-11    1.743106\n",
       "2001-02-12    1.204436\n",
       "2001-02-13   -1.107624\n",
       "2001-02-14   -0.663585\n",
       "2001-02-15    0.510309\n",
       "2001-02-16   -0.842826\n",
       "2001-02-17   -0.559585\n",
       "2001-02-18   -0.309693\n",
       "2001-02-19   -1.248118\n",
       "2001-02-20   -0.113883\n",
       "2001-02-21   -0.233924\n",
       "2001-02-22   -0.045512\n",
       "2001-02-23   -1.514662\n",
       "2001-02-24   -1.797046\n",
       "2001-02-25    1.025156\n",
       "2001-02-26    0.516941\n",
       "2001-02-27   -0.220175\n",
       "2001-02-28    0.281477\n",
       "2001-03-01    0.958999\n",
       "Freq: D, dtype: float64"
      ]
     },
     "execution_count": 17,
     "metadata": {},
     "output_type": "execute_result"
    }
   ],
   "source": [
    "longer_ts = pd.Series(np.random.standard_normal(1000), index=pd.date_range('2001-01-01', periods=1000))\n",
    "longer_ts['2001']\n",
    "longer_ts['2001-05']\n",
    "longer_ts['2001-05-01']\n",
    "\n",
    "#범위\n",
    "longer_ts['2001-05-01':]\n",
    "longer_ts['2001-05-01': '2001-06-01']\n",
    "#truncate()\n",
    "#longer_ts.truncate(after='이 날짜 이후')\n",
    "\n",
    "#ex\n",
    "date = ['2001-02-01', '2001-03-01']\n",
    "longer_ts.truncate(before=date[0], after=date[1])"
   ]
  },
  {
   "cell_type": "code",
   "execution_count": 18,
   "id": "c272820b-5068-49fc-b57b-fec42d7e0a70",
   "metadata": {},
   "outputs": [
    {
     "data": {
      "text/html": [
       "<div>\n",
       "<style scoped>\n",
       "    .dataframe tbody tr th:only-of-type {\n",
       "        vertical-align: middle;\n",
       "    }\n",
       "\n",
       "    .dataframe tbody tr th {\n",
       "        vertical-align: top;\n",
       "    }\n",
       "\n",
       "    .dataframe thead th {\n",
       "        text-align: right;\n",
       "    }\n",
       "</style>\n",
       "<table border=\"1\" class=\"dataframe\">\n",
       "  <thead>\n",
       "    <tr style=\"text-align: right;\">\n",
       "      <th></th>\n",
       "      <th>Colorado</th>\n",
       "      <th>Texas</th>\n",
       "      <th>New York</th>\n",
       "      <th>Ohio</th>\n",
       "    </tr>\n",
       "  </thead>\n",
       "  <tbody>\n",
       "    <tr>\n",
       "      <th>2000-01-05</th>\n",
       "      <td>-0.273389</td>\n",
       "      <td>0.705233</td>\n",
       "      <td>-1.128882</td>\n",
       "      <td>1.777397</td>\n",
       "    </tr>\n",
       "    <tr>\n",
       "      <th>2000-01-12</th>\n",
       "      <td>1.715671</td>\n",
       "      <td>-1.189833</td>\n",
       "      <td>0.441053</td>\n",
       "      <td>-0.270867</td>\n",
       "    </tr>\n",
       "    <tr>\n",
       "      <th>2000-01-19</th>\n",
       "      <td>-1.129514</td>\n",
       "      <td>-0.072037</td>\n",
       "      <td>0.373200</td>\n",
       "      <td>-0.303906</td>\n",
       "    </tr>\n",
       "    <tr>\n",
       "      <th>2000-01-26</th>\n",
       "      <td>-0.451357</td>\n",
       "      <td>-0.253477</td>\n",
       "      <td>-0.624247</td>\n",
       "      <td>0.196389</td>\n",
       "    </tr>\n",
       "    <tr>\n",
       "      <th>2000-02-02</th>\n",
       "      <td>-1.907159</td>\n",
       "      <td>-0.643746</td>\n",
       "      <td>1.593480</td>\n",
       "      <td>-0.366445</td>\n",
       "    </tr>\n",
       "    <tr>\n",
       "      <th>...</th>\n",
       "      <td>...</td>\n",
       "      <td>...</td>\n",
       "      <td>...</td>\n",
       "      <td>...</td>\n",
       "    </tr>\n",
       "    <tr>\n",
       "      <th>2001-10-31</th>\n",
       "      <td>0.111431</td>\n",
       "      <td>1.919357</td>\n",
       "      <td>0.445165</td>\n",
       "      <td>-0.249623</td>\n",
       "    </tr>\n",
       "    <tr>\n",
       "      <th>2001-11-07</th>\n",
       "      <td>-0.220412</td>\n",
       "      <td>0.206115</td>\n",
       "      <td>-0.896427</td>\n",
       "      <td>1.040071</td>\n",
       "    </tr>\n",
       "    <tr>\n",
       "      <th>2001-11-14</th>\n",
       "      <td>-0.196934</td>\n",
       "      <td>0.440076</td>\n",
       "      <td>-0.237539</td>\n",
       "      <td>0.084351</td>\n",
       "    </tr>\n",
       "    <tr>\n",
       "      <th>2001-11-21</th>\n",
       "      <td>0.279173</td>\n",
       "      <td>0.558545</td>\n",
       "      <td>-0.640150</td>\n",
       "      <td>0.953015</td>\n",
       "    </tr>\n",
       "    <tr>\n",
       "      <th>2001-11-28</th>\n",
       "      <td>1.705453</td>\n",
       "      <td>-0.918540</td>\n",
       "      <td>-0.763787</td>\n",
       "      <td>-0.082616</td>\n",
       "    </tr>\n",
       "  </tbody>\n",
       "</table>\n",
       "<p>100 rows × 4 columns</p>\n",
       "</div>"
      ],
      "text/plain": [
       "            Colorado     Texas  New York      Ohio\n",
       "2000-01-05 -0.273389  0.705233 -1.128882  1.777397\n",
       "2000-01-12  1.715671 -1.189833  0.441053 -0.270867\n",
       "2000-01-19 -1.129514 -0.072037  0.373200 -0.303906\n",
       "2000-01-26 -0.451357 -0.253477 -0.624247  0.196389\n",
       "2000-02-02 -1.907159 -0.643746  1.593480 -0.366445\n",
       "...              ...       ...       ...       ...\n",
       "2001-10-31  0.111431  1.919357  0.445165 -0.249623\n",
       "2001-11-07 -0.220412  0.206115 -0.896427  1.040071\n",
       "2001-11-14 -0.196934  0.440076 -0.237539  0.084351\n",
       "2001-11-21  0.279173  0.558545 -0.640150  0.953015\n",
       "2001-11-28  1.705453 -0.918540 -0.763787 -0.082616\n",
       "\n",
       "[100 rows x 4 columns]"
      ]
     },
     "execution_count": 18,
     "metadata": {},
     "output_type": "execute_result"
    }
   ],
   "source": [
    "# 477\n",
    "datas = pd.date_range('2000-01-01', periods=100, freq='W-WED')\n",
    "long_df = pd.DataFrame(np.random.standard_normal((100, 4)),\n",
    "                      index=datas, columns=['Colorado','Texas','New York','Ohio']\n",
    "                      )\n",
    "long_df"
   ]
  },
  {
   "cell_type": "code",
   "execution_count": null,
   "id": "4887fe85-be4b-4d40-b5c1-7d2cad14a50e",
   "metadata": {},
   "outputs": [],
   "source": [
    "# 중복데이터 478\n",
    "dates = pd.DatetimeIndex(['2000-01-01','2000-01-02','2000-01-02','2000-01-02','2000-01-03'])\n",
    "dup_ts = pd.Series(np.arange(5), index=dates)\n",
    "grouped = dup_ts.groupby(level=0)\n",
    "grouped.mean()\n",
    "grouped.count()"
   ]
  },
  {
   "cell_type": "code",
   "execution_count": 22,
   "id": "203e0718-2857-417a-9758-63c243078c9f",
   "metadata": {},
   "outputs": [
    {
     "data": {
      "text/plain": [
       "<DstTzInfo 'America/New_York' LMT-1 day, 19:04:00 STD>"
      ]
     },
     "execution_count": 22,
     "metadata": {},
     "output_type": "execute_result"
    }
   ],
   "source": [
    "# 파이썬 시간 489\n",
    "\n",
    "import pytz\n",
    "# pytz.all_timezones  # 'Asia/Seoul'\n",
    "# pytz.common_timezones[9:]\n",
    "tz = pytz.timezone('Asia/Seoul') #<DstTzInfo 'Asia/Seoul' LMT+8:28:00 STD>\n",
    "tz = pytz.timezone('America/New_York') #<DstTzInfo 'America/New_York' LMT-1 day, 19:04:00 STD>\n",
    "tz"
   ]
  },
  {
   "cell_type": "code",
   "execution_count": 23,
   "id": "df897280-3574-49bc-8230-52cb2073d477",
   "metadata": {},
   "outputs": [
    {
     "data": {
      "text/plain": [
       "DatetimeIndex(['2012-03-09 09:30:00', '2012-03-10 09:30:00',\n",
       "               '2012-03-11 09:30:00', '2012-03-12 09:30:00',\n",
       "               '2012-03-13 09:30:00', '2012-03-14 09:30:00'],\n",
       "              dtype='datetime64[ns]', freq='D')"
      ]
     },
     "execution_count": 23,
     "metadata": {},
     "output_type": "execute_result"
    }
   ],
   "source": [
    "import pandas as pd\n",
    "import numpy as np\n",
    "dates = pd.date_range('2012-03-09 09:30', periods=6)\n",
    "ts = pd.Series(np.random.standard_normal(len(dates)), index=dates)\n",
    "ts.index"
   ]
  },
  {
   "cell_type": "code",
   "execution_count": 27,
   "id": "8d16a36e-ef20-435e-b0d9-914b5beeedb0",
   "metadata": {},
   "outputs": [
    {
     "data": {
      "text/plain": [
       "<DstTzInfo 'America/New_York' LMT-1 day, 19:04:00 STD>"
      ]
     },
     "execution_count": 27,
     "metadata": {},
     "output_type": "execute_result"
    }
   ],
   "source": [
    "tz1 = pd.date_range('2012-03-09 09:30', periods=10, tz=tz)\n",
    "tz1.tz"
   ]
  },
  {
   "cell_type": "code",
   "execution_count": 29,
   "id": "949b7932-91ae-425f-a37e-61197000ba6c",
   "metadata": {},
   "outputs": [
    {
     "data": {
      "text/plain": [
       "2012-03-09 09:30:00    0.207759\n",
       "2012-03-10 09:30:00    1.966598\n",
       "2012-03-11 09:30:00   -0.674925\n",
       "2012-03-12 09:30:00   -0.975952\n",
       "2012-03-13 09:30:00    2.281943\n",
       "2012-03-14 09:30:00   -0.513262\n",
       "Freq: D, dtype: float64"
      ]
     },
     "execution_count": 29,
     "metadata": {},
     "output_type": "execute_result"
    }
   ],
   "source": [
    "# 495\n",
    "dates = pd.date_range('2012-03-07 09:30', periods=10, freq='B')\n",
    "ts = pd.Series(np.random.standard_normal(len(dates)), index=dates)\n",
    "ts1 =  ts[:7].tz_localize('Europe/London')\n",
    "ts2 =  ts1[2:].tz_convert('Europe/Moscow')\n",
    "result = ts1 + ts2\n",
    "result.index"
   ]
  },
  {
   "cell_type": "code",
   "execution_count": 32,
   "id": "0578215d-ae82-4219-9f4a-ca59a8097060",
   "metadata": {},
   "outputs": [
    {
     "data": {
      "text/plain": [
       "<Axes: >"
      ]
     },
     "execution_count": 32,
     "metadata": {},
     "output_type": "execute_result"
    },
    {
     "data": {
      "image/png": "[encoded data removed]",
      "text/plain": [
       "<Figure size 640x480 with 1 Axes>"
      ]
     },
     "metadata": {},
     "output_type": "display_data"
    }
   ],
   "source": [
    "# 517\n",
    "close_px_all = pd.read_csv('stock_px.csv', parse_dates=True, index_col=0)\n",
    "close_px = close_px_all[['AAPL', 'MSFT', 'XOM']]\n",
    "close_px = close_px.resample('B').ffill()\n",
    "close_px['AAPL'].plot()"
   ]
  }
 ],
 "metadata": {
  "kernelspec": {
   "display_name": "Python 3 (ipykernel)",
   "language": "python",
   "name": "python3"
  },
  "language_info": {
   "codemirror_mode": {
    "name": "ipython",
    "version": 3
   },
   "file_extension": ".py",
   "mimetype": "text/x-python",
   "name": "python",
   "nbconvert_exporter": "python",
   "pygments_lexer": "ipython3",
   "version": "3.12.6"
  }
 },
 "nbformat": 4,
 "nbformat_minor": 5
}
