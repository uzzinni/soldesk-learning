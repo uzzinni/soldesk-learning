{
 "cells": [
  {
   "cell_type": "code",
   "execution_count": 2,
   "id": "29c6dd9b-9646-4136-a911-6cffdcc3d45c",
   "metadata": {},
   "outputs": [
    {
     "ename": "ModuleNotFoundError",
     "evalue": "No module named 'matplotlib'",
     "output_type": "error",
     "traceback": [
      "\u001b[31m---------------------------------------------------------------------------\u001b[39m",
      "\u001b[31mModuleNotFoundError\u001b[39m                       Traceback (most recent call last)",
      "\u001b[36mCell\u001b[39m\u001b[36m \u001b[39m\u001b[32mIn[2]\u001b[39m\u001b[32m, line 6\u001b[39m\n\u001b[32m      1\u001b[39m \u001b[38;5;66;03m# 2025-05-20 파이선 웹 스크래핑\u001b[39;00m\n\u001b[32m      2\u001b[39m \u001b[38;5;66;03m# 381~391 눈금 레이블 범례\u001b[39;00m\n\u001b[32m      3\u001b[39m \u001b[38;5;66;03m# 394 ~ 395\u001b[39;00m\n\u001b[32m----> \u001b[39m\u001b[32m6\u001b[39m \u001b[38;5;28;01mimport\u001b[39;00m\u001b[38;5;250m \u001b[39m\u001b[34;01mmatplotlib\u001b[39;00m\u001b[34;01m.\u001b[39;00m\u001b[34;01mpyplot\u001b[39;00m\u001b[38;5;250m \u001b[39m\u001b[38;5;28;01mas\u001b[39;00m\u001b[38;5;250m \u001b[39m\u001b[34;01mplt\u001b[39;00m\n\u001b[32m      7\u001b[39m \u001b[38;5;28;01mfrom\u001b[39;00m\u001b[38;5;250m \u001b[39m\u001b[34;01mdatetime\u001b[39;00m\u001b[38;5;250m \u001b[39m\u001b[38;5;28;01mimport\u001b[39;00m datetime\n\u001b[32m      8\u001b[39m \u001b[38;5;28;01mimport\u001b[39;00m\u001b[38;5;250m \u001b[39m\u001b[34;01mpandas\u001b[39;00m\u001b[38;5;250m \u001b[39m\u001b[38;5;28;01mas\u001b[39;00m\u001b[38;5;250m \u001b[39m\u001b[34;01mpd\u001b[39;00m\n",
      "\u001b[31mModuleNotFoundError\u001b[39m: No module named 'matplotlib'"
     ]
    }
   ],
   "source": [
    "# 2025-05-20 파이선 웹 스크래핑\n",
    "# 381~391 눈금 레이블 범례\n",
    "# 394 ~ 395\n",
    "\n",
    "\n",
    "import matplotlib.pyplot as plt\n",
    "from datetime import datetime\n",
    "import pandas as pd\n",
    "\n",
    "fig, ax = plt.subplots()\n",
    "data = pd.read_csv('spx.csv', index_col=0, parse_dates=True)\n",
    "spx = data['SPX']\n",
    "\n",
    "spx.plot(ax=ax, color='black')\n",
    "\n",
    "crisis_data = [\n",
    "    (datetime(2007, 10, 11), 'Peak of bull market'),\n",
    "    (datetime(2008, 3, 12), 'Bear Stearns Fails'),\n",
    "    (datetime(2008, 9, 15), 'Lehman Bankruptcy')\n",
    "]\n",
    "\n",
    "for date, label in crisis_data:\n",
    "    ax.annotate(label, xy=(date, spx.asof(date) + 75),\n",
    "        xytext=(date, spx.asof(date) + 225),\n",
    "        arrowprops=dict(facecolor='black', headwidth=4, width=2, headlength=4)\n",
    "               )\n",
    "\n",
    "ax.set_xlim([datetime(2007, 1, 1),datetime(2011, 1, 1)])\n",
    "ax.set_ylim([600,1800])\n",
    "ax.set_title('Important dates in thr 2008-2009 financial crisis')"
   ]
  },
  {
   "cell_type": "code",
   "execution_count": null,
   "id": "6be4ff0e-7157-47d5-a8c7-949dff2d50e4",
   "metadata": {},
   "outputs": [],
   "source": [
    "from datetime import datetime\n",
    "\n",
    "fig, ax = plt.subplots()\n",
    "\n",
    "data = pd.read_csv(\"spx.csv\", index_col=0, parse_dates=True)\n",
    "spx = data[\"SPX\"]\n",
    "\n",
    "spx.plot(ax=ax, color=\"black\")\n",
    "\n",
    "crisis_data = [\n",
    "    (datetime(2007, 10, 11), \"Peak of bull market\"),\n",
    "    (datetime(2008, 3, 12), \"Bear Stearns Fails\"),\n",
    "    (datetime(2008, 9, 15), \"Lehman Bankruptcy\")\n",
    "]\n",
    "\n",
    "for date, label in crisis_data:\n",
    "    ax.annotate(label, xy=(date, spx.asof(date) + 75),\n",
    "                xytext=(date, spx.asof(date) + 225),\n",
    "                arrowprops=dict(facecolor=\"black\", headwidth=4, width=2,\n",
    "                                headlength=4),\n",
    "                horizontalalignment=\"left\", verticalalignment=\"top\")\n",
    "\n",
    "ax.set_xlim([datetime(2007, 1, 1),datetime(2011, 1, 1)])\n",
    "ax.set_ylim([600, 1800])\n",
    "\n",
    "ax.set_title(\"Important dates in the 2008–2009 financial crisis\")"
   ]
  },
  {
   "cell_type": "code",
   "execution_count": null,
   "id": "e75bf5e5-cd33-432a-8c62-7f1517b0139a",
   "metadata": {},
   "outputs": [],
   "source": [
    "df = pd.DataFrame(np.random.standard_normal(10).cumsum(), index=np.arange(0, 100, 10))\n",
    "plt.style.use('grayscale')\n",
    "df.plot()"
   ]
  },
  {
   "cell_type": "code",
   "execution_count": null,
   "id": "69b82bfc-1fb1-47ef-bf79-92c10bf8f0e3",
   "metadata": {},
   "outputs": [],
   "source": [
    "# 막대 그래프 402\n",
    "fig, axes = plt.subplots(2,1) # 두 개 그리기\n",
    "data = pd.Series(np.random.uniform(size=16), index=list('abcdefghijklmnop'))\n",
    "data.plot.bar(ax=axes[0], color='black', alpha=0.7)\n",
    "data.plot.barh(ax=axes[1], color='black', alpha=0.7)"
   ]
  },
  {
   "cell_type": "code",
   "execution_count": null,
   "id": "791a41ce-240f-419d-9f97-253874ec2c16",
   "metadata": {},
   "outputs": [],
   "source": [
    "df = pd.DataFrame(np.random.uniform(size=(6,4)),\n",
    "                index=['one','two','three','four','five','six'],\n",
    "                columns=pd.Index(['A','B','C','D',], name='Genus')\n",
    "                 )\n",
    "df.plot.bar()"
   ]
  },
  {
   "cell_type": "code",
   "execution_count": null,
   "id": "97cd1a6f-97f9-4067-b811-5f38a17145b3",
   "metadata": {},
   "outputs": [],
   "source": [
    "tips = pd.read_csv('tips.csv')\n",
    "# tips.tail()\n",
    "party_counts = pd.crosstab(tips['day'], tips['size'])\n",
    "party_counts = party_counts.reindex(index=['Thur','Fri','Sat','Sun'])\n",
    "party_counts = party_counts.loc[:, 2:5] # 2 ~ 5명까지만 \n",
    "party_counts"
   ]
  },
  {
   "cell_type": "code",
   "execution_count": null,
   "id": "c0be9e33-a08c-4bd4-938c-dc6d1733f71a",
   "metadata": {},
   "outputs": [],
   "source": [
    "tips = pd.read_csv('tips.csv')\n",
    "# tips.tail()\n",
    "party_counts = pd.crosstab(tips['day'], tips['size'])\n",
    "party_counts = party_counts.reindex(index=['Thur','Fri','Sat','Sun'])\n",
    "party_counts = party_counts.loc[:, 2:5] # 2 ~ 5명까지만 \n",
    "party_counts\n",
    "\n",
    "# 정규화\n",
    "party_pcts = party_counts.div(party_counts.sum(axis='columns'), axis='index')\n",
    "party_pcts\n",
    "\n",
    "# 출력\n",
    "party_pcts.plot.bar(stacked=True)"
   ]
  },
  {
   "cell_type": "code",
   "execution_count": null,
   "id": "a950f2a6-1672-453e-997e-f9f90b537ab4",
   "metadata": {},
   "outputs": [],
   "source": [
    "import seaborn as sns\n",
    "tips['tips_pct'] = tips['tip'] / (tips['total_bill'] - tips['tip'])\n",
    "tips.head()\n",
    "sns.barplot(data=tips, x='tips_pct', y='day', orient='h')"
   ]
  },
  {
   "cell_type": "code",
   "execution_count": null,
   "id": "191975e5-e1f9-444f-af1a-b5d9ab398da7",
   "metadata": {},
   "outputs": [],
   "source": [
    "ns.barplot(x='tips_pct', y='day', hue='time', data=tips, orient='h')"
   ]
  },
  {
   "cell_type": "code",
   "execution_count": null,
   "id": "f4fc14c8-9716-4894-9c04-dbda30438c5f",
   "metadata": {},
   "outputs": [],
   "source": [
    "sns.set_style('whitegrid')\n",
    "sns.barplot(x='tips_pct', y='day', hue='time', data=tips, orient='h')"
   ]
  },
  {
   "cell_type": "code",
   "execution_count": null,
   "id": "d9cc4222-ad3d-4b1b-8f04-365002ba6e83",
   "metadata": {},
   "outputs": [],
   "source": [
    "tips['tips_pct'].plot.hist(bins=50)\n",
    "tips['tips_pct'].plot.density()"
   ]
  },
  {
   "cell_type": "code",
   "execution_count": null,
   "id": "1364e489-e6ed-4b58-bb11-ee8ca8d85cc1",
   "metadata": {},
   "outputs": [],
   "source": [
    "comp1 = np.random.standard_normal(200)\n",
    "comp2 = 10 + 2 * np.random.standard_normal(200)\n",
    "values = pd.Series(np.concatenate([comp1, comp2]))\n",
    "sns.histplot(values, bins=100, color='black')"
   ]
  }
 ],
 "metadata": {
  "kernelspec": {
   "display_name": "Python 3 (ipykernel)",
   "language": "python",
   "name": "python3"
  },
  "language_info": {
   "codemirror_mode": {
    "name": "ipython",
    "version": 3
   },
   "file_extension": ".py",
   "mimetype": "text/x-python",
   "name": "python",
   "nbconvert_exporter": "python",
   "pygments_lexer": "ipython3",
   "version": "3.12.6"
  }
 },
 "nbformat": 4,
 "nbformat_minor": 5
}
